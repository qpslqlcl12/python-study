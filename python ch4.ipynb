{
 "cells": [
  {
   "cell_type": "code",
   "execution_count": 1,
   "metadata": {},
   "outputs": [],
   "source": [
    "# 제어\n",
    "# if while for 등의 조건 제어문"
   ]
  },
  {
   "cell_type": "code",
   "execution_count": 2,
   "metadata": {},
   "outputs": [
    {
     "name": "stdout",
     "output_type": "stream",
     "text": [
      "big\n"
     ]
    }
   ],
   "source": [
    "value = 10\n",
    "if value > 5:\n",
    "    print('big')"
   ]
  },
  {
   "cell_type": "code",
   "execution_count": 3,
   "metadata": {},
   "outputs": [
    {
     "name": "stdout",
     "output_type": "stream",
     "text": [
      "10\n",
      "9\n",
      "8\n"
     ]
    }
   ],
   "source": [
    "while value > 7:\n",
    "    print(value)\n",
    "    value -=1"
   ]
  },
  {
   "cell_type": "code",
   "execution_count": 4,
   "metadata": {},
   "outputs": [
    {
     "name": "stdout",
     "output_type": "stream",
     "text": [
      "apple <class 'str'>\n",
      "100 <class 'int'>\n",
      "15.1 <class 'float'>\n"
     ]
    }
   ],
   "source": [
    "l=['apple', 100, 15.1]\n",
    "for i in l:\n",
    "    print(i, type(i))"
   ]
  },
  {
   "cell_type": "code",
   "execution_count": 5,
   "metadata": {},
   "outputs": [
    {
     "name": "stdout",
     "output_type": "stream",
     "text": [
      "apple <class 'str'> str\n",
      "100 <class 'int'> else\n",
      "15.1 <class 'float'> else\n"
     ]
    }
   ],
   "source": [
    "l=['apple', 100, 15.1]\n",
    "for i in l:\n",
    "    if type(i) == str:\n",
    "        print(i, type(i), \"str\")\n",
    "    else:\n",
    "        print(i, type(i), \"else\")"
   ]
  },
  {
   "cell_type": "code",
   "execution_count": null,
   "metadata": {},
   "outputs": [],
   "source": []
  }
 ],
 "metadata": {
  "kernelspec": {
   "display_name": "Python 3",
   "language": "python",
   "name": "python3"
  },
  "language_info": {
   "codemirror_mode": {
    "name": "ipython",
    "version": 3
   },
   "file_extension": ".py",
   "mimetype": "text/x-python",
   "name": "python",
   "nbconvert_exporter": "python",
   "pygments_lexer": "ipython3",
   "version": "3.7.4"
  }
 },
 "nbformat": 4,
 "nbformat_minor": 2
}
