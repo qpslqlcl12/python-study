{
 "cells": [
  {
   "cell_type": "code",
   "execution_count": 1,
   "metadata": {},
   "outputs": [],
   "source": [
    "from functools import *  ## functools 모듈 호출\n",
    "\n",
    "def intersect(*ar):\n",
    "    \"교집합\"\n",
    "    return reduce(__intersectSC, ar)\n",
    "def __intersectSC(listX, listY):\n",
    "    setList =[]\n",
    "    for x in listX:\n",
    "        if x in listY:\n",
    "            setList.append(x)\n",
    "    return setList\n",
    "def difference(*ar):\n",
    "    \"차집합\"\n",
    "    setList = []\n",
    "    intersectSet = intersect(*ar)\n",
    "    unionSet = union(*ar)\n",
    "    for x in unionSet:\n",
    "        if not x in intersectSet:\n",
    "            setList.append(x)\n",
    "    return setList\n",
    "def union(*ar):\n",
    "    \"합집합\"\n",
    "    setList = []\n",
    "    for item in ar:\n",
    "        for x in item:\n",
    "            if not x in setList:\n",
    "                setList.append(x)\n",
    "    return setList"
   ]
  },
  {
   "cell_type": "code",
   "execution_count": null,
   "metadata": {},
   "outputs": [],
   "source": []
  }
 ],
 "metadata": {
  "kernelspec": {
   "display_name": "Python 3",
   "language": "python",
   "name": "python3"
  },
  "language_info": {
   "codemirror_mode": {
    "name": "ipython",
    "version": 3
   },
   "file_extension": ".py",
   "mimetype": "text/x-python",
   "name": "python",
   "nbconvert_exporter": "python",
   "pygments_lexer": "ipython3",
   "version": "3.7.4"
  }
 },
 "nbformat": 4,
 "nbformat_minor": 2
}
